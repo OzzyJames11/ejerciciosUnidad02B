{
  "nbformat": 4,
  "nbformat_minor": 0,
  "metadata": {
    "colab": {
      "provenance": []
    },
    "kernelspec": {
      "name": "python3",
      "display_name": "Python 3"
    },
    "language_info": {
      "name": "python"
    }
  },
  "cells": [
    {
      "cell_type": "markdown",
      "source": [
        "Encuentre soluciones precisas dentro de $10^{-4}$ para los siguientes problemas."
      ],
      "metadata": {
        "id": "7vSL5ANOkdcP"
      }
    },
    {
      "cell_type": "code",
      "source": [
        "from typing import Callable\n",
        "import numpy as np\n",
        "\n",
        "def newton_raphson(\n",
        "    x0: float,\n",
        "    equation: Callable[[float], float],\n",
        "    derivative: Callable[[float], float],\n",
        "    tol: float,\n",
        "    N: int\n",
        ") -> float:\n",
        "    \"\"\"\n",
        "    Método de Newton-Raphson para encontrar la raíz de una ecuación no lineal.\n",
        "\n",
        "    Parameters:\n",
        "    x0 (float): Valor inicial para la iteración.\n",
        "    equation (Callable[[float], float]): La función de la cual se desea encontrar la raíz.\n",
        "    derivative (Callable[[float], float]): La derivada de la función.\n",
        "    tol (float): Tolerancia para la convergencia.\n",
        "    N (int): Número máximo de iteraciones.\n",
        "\n",
        "    Returns:\n",
        "    float: Aproximación a la raíz de la función.\n",
        "    \"\"\"\n",
        "    x = x0\n",
        "    for i in range(N):\n",
        "        fx = equation(x)\n",
        "        dfx = derivative(x)\n",
        "\n",
        "        if dfx == 0:\n",
        "            raise ValueError(\"La derivada es cero en x = {0}. El método de Newton-Raphson falla.\".format(x))\n",
        "\n",
        "        x_new = x - fx / dfx\n",
        "\n",
        "        if abs(x_new - x) < tol:\n",
        "            return x_new\n",
        "\n",
        "        x = x_new\n",
        "\n",
        "    raise ValueError(\"El método de Newton-Raphson no convergió después de {0} iteraciones.\".format(N))\n",
        "\n",
        "# Definición de las funciones y sus derivadas para cada problema\n",
        "def f_a(x):\n",
        "    return x**3 - 2*x**2 - 5\n",
        "\n",
        "def df_a(x):\n",
        "    return 3*x**2 - 4*x\n",
        "\n",
        "def f_b(x):\n",
        "    return x**3 + 3*x**2 - 1\n",
        "\n",
        "def df_b(x):\n",
        "    return 3*x**2 + 6*x\n",
        "\n",
        "def f_c(x):\n",
        "    return x - np.cos(x)\n",
        "\n",
        "def df_c(x):\n",
        "    return 1 + np.sin(x)\n",
        "\n",
        "def f_d(x):\n",
        "    return x - 0.8 - 0.2 * np.sin(x)\n",
        "\n",
        "def df_d(x):\n",
        "    return 1 - 0.2 * np.cos(x)\n",
        "\n",
        "# Parámetros comunes\n",
        "x0 = 1.0\n",
        "tolerancia = 1e-4\n",
        "max_iteraciones = 1000\n",
        "\n",
        "# Solución de los problemas usando el método de Newton-Raphson\n",
        "# Problema a\n",
        "raiz_a = newton_raphson(x0, f_a, df_a, tolerancia, max_iteraciones)\n",
        "print(\"a) Usando método de Newton-Raphson:\", raiz_a)\n",
        "\n",
        "# Problema b\n",
        "raiz_b = newton_raphson(-3, f_b, df_b, tolerancia, max_iteraciones)\n",
        "print(\"b) Usando método de Newton-Raphson:\", raiz_b)\n",
        "\n",
        "# Problema c\n",
        "raiz_c = newton_raphson(0, f_c, df_c, tolerancia, max_iteraciones)\n",
        "print(\"c) Usando método de Newton-Raphson:\", raiz_c)\n",
        "\n",
        "# Problema d\n",
        "raiz_d = newton_raphson(0, f_d, df_d, tolerancia, max_iteraciones)\n",
        "print(\"d) Usando método de Newton-Raphson:\", raiz_d)\n"
      ],
      "metadata": {
        "id": "N68xNeZ_j4Sb",
        "outputId": "f894bbc5-b4c0-4bd6-83aa-78b6af8c6c8f",
        "colab": {
          "base_uri": "https://localhost:8080/"
        }
      },
      "execution_count": 3,
      "outputs": [
        {
          "output_type": "stream",
          "name": "stdout",
          "text": [
            "a) Usando método de Newton-Raphson: 2.6906474480286287\n",
            "b) Usando método de Newton-Raphson: -2.8793852448366706\n",
            "c) Usando método de Newton-Raphson: 0.739085133385284\n",
            "d) Usando método de Newton-Raphson: 0.9643338876952227\n"
          ]
        }
      ]
    },
    {
      "cell_type": "code",
      "source": [
        "from scipy.optimize import newton\n",
        "import numpy as np\n",
        "\n",
        "# Definición de las funciones para cada problema\n",
        "\n",
        "def f_a(x):\n",
        "    return x**3 - 2*x**2 - 5\n",
        "\n",
        "def f_b(x):\n",
        "    return x**3 + 3*x**2 - 1\n",
        "\n",
        "def f_c(x):\n",
        "    return x - np.cos(x)\n",
        "\n",
        "def f_d(x):\n",
        "    return x - 0.8 - 0.2 * np.sin(x)\n",
        "\n",
        "# Parámetros comunes\n",
        "tolerance = 1e-4\n",
        "\n",
        "# Solución de los problemas usando el método de la secante\n",
        "# Problema a\n",
        "r_a = newton(func=f_a, x0=1, x1=4, tol=tolerance, full_output=True)\n",
        "print(\"a) Usando el método de la Secante:\", r_a)\n",
        "\n",
        "# Problema b\n",
        "r_b = newton(func=f_b, x0=-3, x1=-2, tol=tolerance, full_output=True)\n",
        "print(\"b) Usando el método de la Secante:\", r_b)\n",
        "\n",
        "# Problema c\n",
        "r_c = newton(func=f_c, x0=0, x1=np.pi/2, tol=tolerance, full_output=True)\n",
        "print(\"c) Usando el método de la Secante:\", r_c)\n",
        "\n",
        "# Problema d\n",
        "r_d = newton(func=f_d, x0=0, x1=np.pi/2, tol=tolerance, full_output=True)\n",
        "print(\"d) Usando el método de la Secante:\", r_d)\n"
      ],
      "metadata": {
        "id": "pum5WTHxkTbV",
        "outputId": "56e14680-4011-4d6e-b8cd-94b220d31583",
        "colab": {
          "base_uri": "https://localhost:8080/"
        }
      },
      "execution_count": 6,
      "outputs": [
        {
          "output_type": "stream",
          "name": "stdout",
          "text": [
            "a) Usando el método de la Secante: (2.6906474478837734,       converged: True\n",
            "           flag: converged\n",
            " function_calls: 11\n",
            "     iterations: 10\n",
            "           root: 2.6906474478837734)\n",
            "b) Usando el método de la Secante: (-2.879385194736809,       converged: True\n",
            "           flag: converged\n",
            " function_calls: 7\n",
            "     iterations: 6\n",
            "           root: -2.879385194736809)\n",
            "c) Usando el método de la Secante: (0.739085133034638,       converged: True\n",
            "           flag: converged\n",
            " function_calls: 6\n",
            "     iterations: 5\n",
            "           root: 0.739085133034638)\n",
            "d) Usando el método de la Secante: (0.9643338835706312,       converged: True\n",
            "           flag: converged\n",
            " function_calls: 5\n",
            "     iterations: 4\n",
            "           root: 0.9643338835706312)\n"
          ]
        }
      ]
    }
  ]
}