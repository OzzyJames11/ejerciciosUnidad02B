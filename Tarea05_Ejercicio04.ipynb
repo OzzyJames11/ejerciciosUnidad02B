{
  "cells": [
    {
      "cell_type": "markdown",
      "source": [
        "Intente aproximar estos ceros dentro de $10^{-6}$ con"
      ],
      "metadata": {
        "id": "ATBEuRLhXzWl"
      },
      "id": "ATBEuRLhXzWl"
    },
    {
      "cell_type": "markdown",
      "source": [
        "### a) El método de la secante (use los extremos como las estimaciones iniciales)"
      ],
      "metadata": {
        "id": "pf9g3rlMX2Pz"
      },
      "id": "pf9g3rlMX2Pz"
    },
    {
      "cell_type": "code",
      "execution_count": 1,
      "id": "d76988ba-26be-45c7-8ab5-85fca91869f9",
      "metadata": {
        "tags": [],
        "id": "d76988ba-26be-45c7-8ab5-85fca91869f9"
      },
      "outputs": [],
      "source": [
        "# Definición de la función\n",
        "def f(x):\n",
        "    return (230*x**4+18*x**3+9*x**2-221*x-9)\n",
        "\n",
        "# Definición de la derivada de la función\n",
        "def d_f(x):\n",
        "    return (920*x**3+54*x**2+18*x-221)"
      ]
    },
    {
      "cell_type": "code",
      "execution_count": 24,
      "id": "077f907c-cf68-4aaf-a5a1-a92dbc98017c",
      "metadata": {
        "tags": [],
        "colab": {
          "base_uri": "https://localhost:8080/",
          "height": 475
        },
        "id": "077f907c-cf68-4aaf-a5a1-a92dbc98017c",
        "outputId": "3b4f1fad-10a8-4688-8b57-5ec63f59d8b5"
      },
      "outputs": [
        {
          "output_type": "display_data",
          "data": {
            "text/plain": [
              "<Figure size 640x480 with 1 Axes>"
            ],
            "image/png": "[encoded data removed]"
          },
          "metadata": {}
        }
      ],
      "source": [
        "import numpy as np\n",
        "\n",
        "import matplotlib.pyplot as plt\n",
        "# Generate x values\n",
        "x = np.linspace(-10, 10, 2000)\n",
        "\n",
        "# Calculate y values\n",
        "y = f(x)\n",
        "# Plot the equation\n",
        "plt.plot(x, y, label = '$f(x) = 230x^4+18x^3+9x^2-221x-9$')\n",
        "plt.xlabel('x')\n",
        "plt.ylabel('y')\n",
        "plt.title('Gráfica de $f(x)$')\n",
        "ax = plt.gca()\n",
        "ax.set_ylim([-1, 1])\n",
        "ax.set_xlim([-0.25, 1.25])\n",
        "plt.grid(True)\n",
        "plt.legend()\n",
        "# Marca los ejes coordenados\n",
        "plt.axhline(0, color='black',linewidth=0.5)\n",
        "plt.axvline(0, color='black',linewidth=0.5)\n",
        "plt.show()"
      ]
    },
    {
      "cell_type": "code",
      "execution_count": 7,
      "id": "c13d8a62-9f65-40b1-8424-14868c9b79cb",
      "metadata": {
        "tags": [],
        "colab": {
          "base_uri": "https://localhost:8080/"
        },
        "id": "c13d8a62-9f65-40b1-8424-14868c9b79cb",
        "outputId": "1d987249-ec3b-4417-99c2-123641b4d3a0"
      },
      "outputs": [
        {
          "output_type": "stream",
          "name": "stdout",
          "text": [
            "cero aproximado con el método de la Secante: (0.9623984188121368,       converged: True\n",
            "           flag: converged\n",
            " function_calls: 6\n",
            "     iterations: 5\n",
            "           root: 0.9623984188121368)\n"
          ]
        }
      ],
      "source": [
        "from scipy.optimize import newton\n",
        "\n",
        "# Parámetros comunes\n",
        "x_0=-0.04066\n",
        "x_1=0.96240\n",
        "tolerance = 1e-6\n",
        "\n",
        "# Solución de los problemas usando el método de la secante\n",
        "# Problema a\n",
        "r_a = newton(func=f, x0=x_0, x1=x_1, tol=tolerance, full_output=True)\n",
        "print(\"cero aproximado con el método de la Secante:\", r_a)"
      ]
    },
    {
      "cell_type": "markdown",
      "source": [
        "### b) El método de Newton (use el punto medio como estimación inicial)"
      ],
      "metadata": {
        "id": "ZURnvEg6X7xD"
      },
      "id": "ZURnvEg6X7xD"
    },
    {
      "cell_type": "code",
      "execution_count": 8,
      "id": "c9eece00-904b-4c9e-ba17-c4d714b6b0ce",
      "metadata": {
        "tags": [],
        "colab": {
          "base_uri": "https://localhost:8080/"
        },
        "id": "c9eece00-904b-4c9e-ba17-c4d714b6b0ce",
        "outputId": "086b9454-4071-4ed0-fd52-6db05dc64d2e"
      },
      "outputs": [
        {
          "output_type": "stream",
          "name": "stdout",
          "text": [
            "Cero aproximado con el método de Newton-Raphson: (-0.040659288315758865,       converged: True\n",
            "           flag: converged\n",
            " function_calls: 10\n",
            "     iterations: 5\n",
            "           root: -0.040659288315758865)\n"
          ]
        }
      ],
      "source": [
        "# Parámetros comunes\n",
        "x_m=(x_0+x_1)/2\n",
        "tolerancia = 1e-6\n",
        "max_iteraciones = 1000\n",
        "\n",
        "# Solucion del problema usando el método de Newton-Raphson\n",
        "# Problema b\n",
        "r_b = newton(func=f,x0=x_m,fprime=d_f,tol=tolerancia,maxiter = max_iteraciones,full_output=True)\n",
        "\n",
        "print(\"Cero aproximado con el método de Newton-Raphson:\", r_b)"
      ]
    }
  ],
  "metadata": {
    "kernelspec": {
      "display_name": "Python 3 (ipykernel)",
      "language": "python",
      "name": "python3"
    },
    "language_info": {
      "codemirror_mode": {
        "name": "ipython",
        "version": 3
      },
      "file_extension": ".py",
      "mimetype": "text/x-python",
      "name": "python",
      "nbconvert_exporter": "python",
      "pygments_lexer": "ipython3",
      "version": "3.11.7"
    },
    "colab": {
      "provenance": []
    }
  },
  "nbformat": 4,
  "nbformat_minor": 5
}