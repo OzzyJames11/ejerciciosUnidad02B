{
  "nbformat": 4,
  "nbformat_minor": 0,
  "metadata": {
    "colab": {
      "provenance": []
    },
    "kernelspec": {
      "name": "python3",
      "display_name": "Python 3"
    },
    "language_info": {
      "name": "python"
    }
  },
  "cells": [
    {
      "cell_type": "markdown",
      "source": [
        "Sea $f(x) = -x^3-\\cos{(x)}$ y $p_0 = -1$. Use el método de Newton y de la Secante para encontrar $p_2$. ¿Se podría usar $p_0 = 0$?"
      ],
      "metadata": {
        "id": "1SkFM04Ni-FO"
      }
    },
    {
      "cell_type": "code",
      "source": [
        "import numpy as np\n",
        "\n",
        "# Algoritmo de Newton\n",
        "def metodo_newton(funcion, derivada, x_inicial, tolerancia=1e-5, max_iter=100):\n",
        "    x = x_inicial\n",
        "    for i in range(max_iter):\n",
        "        fx = funcion(x)\n",
        "        dfx = derivada(x)\n",
        "        if dfx == 0:\n",
        "            raise ValueError(\"La derivada se hizo cero\")\n",
        "        x_nuevo = x - fx / dfx\n",
        "        if abs(x_nuevo - x) < tolerancia:\n",
        "            return x_nuevo\n",
        "        x = x_nuevo\n",
        "    raise ValueError(\"El método de Newton no convergió\")\n",
        "\n",
        "# Problema a resolver: -(x)^3 - np.cos(x) = 0\n",
        "funcion_a = lambda x: -(x)**3 - np.cos(x)\n",
        "derivada_a = lambda x: -3 * (x)**2 + np.sin(x)\n",
        "\n",
        "# Solución para el problema a\n",
        "x_inicial_a = -1.0  # Valor inicial para Newton\n",
        "\n",
        "try:\n",
        "    solucion_a_newton = metodo_newton(funcion_a, derivada_a, x_inicial_a)\n",
        "    print(\"Problema a: -(x)^3 - cos(x) = 0\")\n",
        "    print(f\"Solución con el método de Newton: x = {solucion_a_newton:.5f}\")\n",
        "\n",
        "except ValueError as e:\n",
        "    print(e)\n",
        "\n",
        "def f(x):\n",
        "    return -x**3 - np.cos(x)\n",
        "\n",
        "def metodo_secante(funcion, x0, x1, tolerancia=1e-5, max_iter=100):\n",
        "    for _ in range(max_iter):\n",
        "        fx0 = funcion(x0)\n",
        "        fx1 = funcion(x1)\n",
        "\n",
        "        if abs(fx1 - fx0) < tolerancia:\n",
        "            print(\"Cambio en la función es demasiado pequeño, puede que no converja\")\n",
        "            return None\n",
        "\n",
        "        x2 = x1 - fx1 * (x1 - x0) / (fx1 - fx0)\n",
        "\n",
        "        if abs(x2 - x1) < tolerancia:\n",
        "            return x2\n",
        "\n",
        "        x0, x1 = x1, x2\n",
        "\n",
        "    print(\"El método no convergió en el número máximo de iteraciones\")\n",
        "    return None\n",
        "\n",
        "# Aproximaciones iniciales\n",
        "x0_secante = -1\n",
        "x1_secante = -0.9\n",
        "\n",
        "# Encontrar la raíz\n",
        "raiz_secante = metodo_secante(f, x0_secante, x1_secante)\n",
        "print(f\"Solución con el método de la Secante: x = {raiz_secante:.5f}\")\n"
      ],
      "metadata": {
        "colab": {
          "base_uri": "https://localhost:8080/"
        },
        "id": "az8S4wn6iwo-",
        "outputId": "338ec3c7-aefd-42f3-cd08-6a446b6d9b29"
      },
      "execution_count": 2,
      "outputs": [
        {
          "output_type": "stream",
          "name": "stdout",
          "text": [
            "Problema a: -(x)^3 - cos(x) = 0\n",
            "Solución con el método de Newton: x = -0.86547\n",
            "Solución con el método de la Secante: x = -0.86547\n"
          ]
        }
      ]
    }
  ]
}